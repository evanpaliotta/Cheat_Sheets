{
 "cells": [
  {
   "cell_type": "markdown",
   "metadata": {},
   "source": [
    "# Time Series"
   ]
  },
  {
   "cell_type": "markdown",
   "metadata": {},
   "source": [
    "Autoregression (AR):\n",
    "- models the next step in the sequence as a linear function of the observations at prior time steps"
   ]
  },
  {
   "cell_type": "markdown",
   "metadata": {},
   "source": [
    "Autoregressive Moving Average (ARMA):\n",
    "- models the next step in the sequence as a linear function of the observations and resiudal errors at prior time steps\n",
    "\n",
    "Code:\n",
    "- from statsmodels.tsa.arima_model import ARMA\n",
    "- model = ARMA(data.values, order=(2, 2))\n",
    "- result = model.fit()\n",
    "- result.summary()"
   ]
  },
  {
   "cell_type": "markdown",
   "metadata": {},
   "source": [
    "Autoregressive Integrated Moving Average (ARIMA):\n",
    "- models the next step in the sequence as a linear function of the differenced observations and residual errors at prior time steps\n",
    "\n",
    "Code:\n",
    "- from statsmodels.tsa.arima_model import ARIMA\n",
    "- model = ARIMA(df.Settle.values, order=(1, 1, 1))\n",
    "- results = model.fit()\n",
    "- results.summary()"
   ]
  },
  {
   "cell_type": "markdown",
   "metadata": {},
   "source": [
    "Hodrick-Prescott Filter (HP Filter):\n",
    "- a mathematical tool used in macroeconomics, especially in real business cycle theory, to remove the cyclical component of a time series from raw data. It is used to obtain a smoothed-curve representation of a time series, one that is more sensitive to long-term than to short-term fluctuation\n",
    "\n",
    "Code:\n",
    "- import statsmodels.api as sm\n",
    "- sm.tsa.filters.hpfilter"
   ]
  },
  {
   "cell_type": "markdown",
   "metadata": {},
   "source": [
    "Moving Average (MA):\n",
    "- models the next step in the sequence as a linear function of the residual errors from a mean process at prior time steps\n",
    "\n",
    "Exponentially-Weighted Moving Avergae (EWMA):\n",
    "- applies weighting factors which decrease exponentially. The weighting for each older datum decreases exponentially, never reaching zero\n",
    "\n",
    "Code:\n",
    "- .ewm(halflife=6)"
   ]
  },
  {
   "cell_type": "markdown",
   "metadata": {},
   "source": [
    "Autocorrelation:\n",
    "-  the correlation of a signal with a delayed copy of itself as a function of delay. Informally, it is the similarity between observations as a function of the time lag between them. The analysis of autocorrelation is a mathematical tool for finding repeating patterns, such as the presence of a periodic signal obscured by noise\n",
    "\n",
    "Code:\n",
    "- .autocorr(1)\n",
    "\n",
    "Partial Autocorrelation Factor:\n",
    "- gives the partial correlation of a stationary time series with its own lagged values, regressed the values of the time series at all shorter lags. It contrasts with the autocorrelation function, which does not control for other lags\n",
    "- correlation at some lag accounting for previous lags...how much information do we get in the previous lags"
   ]
  },
  {
   "cell_type": "markdown",
   "metadata": {},
   "source": [
    "Augmented Dickey-Fuller test:\n",
    "- used to determine whether a time series is stationary or non-stationary\n",
    "- stationary time series has \n",
    "\n",
    "Code:\n",
    "from statsmodels.tsa.stattools import adfuller\n",
    "adfuller(df.Close)\n",
    "- use pct_change function or diff function to switch from non-stationary to stationary"
   ]
  },
  {
   "cell_type": "markdown",
   "metadata": {},
   "source": [
    "GARCH Model:\n",
    "- generalized autoregressive conditional heteroskedasticity\n",
    "- estimate the volatility of returns for stocks, bonds and market indices\n",
    "\n",
    "Code:\n",
    "- import arch as arch\n",
    "- from arch import arch_model\n",
    "- model = arch_model(df.Return, mean=\"Zero\", vol=\"GARCH\", p=2, q=2)\n",
    "- results = model.fit(disp=\"off\")"
   ]
  },
  {
   "cell_type": "code",
   "execution_count": null,
   "metadata": {},
   "outputs": [],
   "source": []
  }
 ],
 "metadata": {
  "kernelspec": {
   "display_name": "Python 3",
   "language": "python",
   "name": "python3"
  },
  "language_info": {
   "codemirror_mode": {
    "name": "ipython",
    "version": 3
   },
   "file_extension": ".py",
   "mimetype": "text/x-python",
   "name": "python",
   "nbconvert_exporter": "python",
   "pygments_lexer": "ipython3",
   "version": "3.7.4"
  }
 },
 "nbformat": 4,
 "nbformat_minor": 4
}
