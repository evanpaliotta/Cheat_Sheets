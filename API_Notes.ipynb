{
 "cells": [
  {
   "cell_type": "code",
   "execution_count": null,
   "metadata": {},
   "outputs": [],
   "source": [
    "#API Imports\n",
    "import requests\n",
    "import json\n",
    "import plaid\n",
    "import os\n",
    "import datetime"
   ]
  },
  {
   "cell_type": "code",
   "execution_count": null,
   "metadata": {},
   "outputs": [],
   "source": [
    "# Create parameterized url\n",
    "request_url = \"<url>\"\n",
    "\n",
    "# Submit request and format output\n",
    "response_data = requests.get(request_url).json()\n",
    "print(json.dumps(response_data, indent=4))\n",
    "\n",
    "# Select fact \n",
    "response_data['text']"
   ]
  },
  {
   "cell_type": "code",
   "execution_count": null,
   "metadata": {},
   "outputs": [],
   "source": [
    "#Command line prompt to initialize key\n",
    ". ./keys.sh\n",
    "echo $QUANDL_API_KEY\n",
    "jupyter lab"
   ]
  },
  {
   "cell_type": "code",
   "execution_count": null,
   "metadata": {},
   "outputs": [],
   "source": [
    "##Create public token and exchange for access token\n",
    "# Select an institution for processing\n",
    "INSTITUTION_ID = \"ins_109512\"\n",
    "\n",
    "# Create public token to be exchanged for institution access token\n",
    "create_tkn_response = client.Sandbox.public_token.create(INSTITUTION_ID, ['transactions','income','assets'])\n",
    "\n",
    "# Exchange public token for access token\n",
    "exchange_response = client.Item.public_token.exchange(create_tkn_response['public_token'])\n",
    "\n",
    "# Store access token as variable\n",
    "access_token = exchange_response['access_token']"
   ]
  },
  {
   "cell_type": "code",
   "execution_count": null,
   "metadata": {},
   "outputs": [],
   "source": [
    "##Monte Carlo Simulation\n",
    "#Import Dependencies\n",
    "from numpy import random\n",
    "import pandas as pd\n",
    "%matplotlib inline\n",
    "\n",
    "#Set simulation variables\n",
    "num_simulations = int\n",
    "num_'shots/flips/iterations' = int\n",
    "\n",
    "# Set a list object acting as an iterator\n",
    "iteration=['x', 'y'] #ex.shot = [\"hit\", \"missed\"]\n",
    "\n",
    "# Set probability of events\n",
    "probability = [0.5, 0.5]\n",
    "\n",
    "# Create an empty DataFrame to hold simulation results\n",
    "monte_carlo = pd.DataFrame()\n",
    "\n",
    "# Run n number of simulations\n",
    "for n in range(num_simulations):\n",
    "\n",
    "    # Print simulation iteration\n",
    "    # print(f\"Running Simulation {n+1}...\")\n",
    "    \n",
    "# Set an empty list to hold results\n",
    "    list = [] #ex. throws, shots, flips\n",
    "    \n",
    "# Iterate several times\n",
    "    for i in range(num_iterations):\n",
    "        \n",
    "        # Random int: 0 or 1\n",
    "        num_list = random.choice(coin, p=probability)\n",
    "        \n",
    "        # Print result\n",
    "        # print(f\"  list {i+1}: {num_list}\")\n",
    "\n",
    "        # Append flip result to list\n",
    "        list.append(num_list)\n",
    "\n",
    "    # Append column for each simulation and flip results\n",
    "    monte_carlo[f\"Simulation {n}\"] = pd.Series(list)\n",
    "\n",
    "# Print the DataFrame\n",
    "monte_carlo"
   ]
  }
 ],
 "metadata": {
  "kernelspec": {
   "display_name": "Python 3",
   "language": "python",
   "name": "python3"
  },
  "language_info": {
   "codemirror_mode": {
    "name": "ipython",
    "version": 3
   },
   "file_extension": ".py",
   "mimetype": "text/x-python",
   "name": "python",
   "nbconvert_exporter": "python",
   "pygments_lexer": "ipython3",
   "version": "3.7.4"
  }
 },
 "nbformat": 4,
 "nbformat_minor": 4
}
